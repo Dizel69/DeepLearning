{
 "cells": [
  {
   "cell_type": "markdown",
   "id": "f385d7be",
   "metadata": {},
   "source": [
    "# Загрузка и первичный осмотр данных\n",
    " В этом разделе:\n",
    " 1. Импортируем библиотеку pandas для работы с таблицами и numpy для численных операций.\n",
    " 2. Загружаем CSV-файл \"emails.csv\" в DataFrame — табличную структуру, удобную для анализа.\n",
    " 3. Выводим первые 10 строк, чтобы проверить, что данные корректно загружены и понять формат.\n",
    "    Ожидаем, что в таблице есть столбцы:\n",
    "      - 'text'  : текст письма\n",
    "      - 'spam'  : метка 1 (spam) или 0 (ham)\n"
   ]
  },
  {
   "cell_type": "code",
   "execution_count": 2,
   "id": "d5cb7231",
   "metadata": {},
   "outputs": [
    {
     "name": "stdout",
     "output_type": "stream",
     "text": [
      "Первые 10 писем для проверки:\n",
      "                                                text  spam\n",
      "0  Subject: naturally irresistible your corporate...     1\n",
      "1  Subject: the stock trading gunslinger  fanny i...     1\n",
      "2  Subject: unbelievable new homes made easy  im ...     1\n",
      "3  Subject: 4 color printing special  request add...     1\n",
      "4  Subject: do not have money , get software cds ...     1\n",
      "5  Subject: great nnews  hello , welcome to medzo...     1\n",
      "6  Subject: here ' s a hot play in motion  homela...     1\n",
      "7  Subject: save your money buy getting this thin...     1\n",
      "8  Subject: undeliverable : home based business f...     1\n",
      "9  Subject: save your money buy getting this thin...     1\n"
     ]
    }
   ],
   "source": [
    "import numpy as np\n",
    "import pandas as pd\n",
    "\n",
    "emails = pd.read_csv('emails.csv')\n",
    "print(\"Первые 10 писем для проверки:\")\n",
    "print(emails.head(10))\n",
    "\n"
   ]
  },
  {
   "cell_type": "markdown",
   "id": "f8964953",
   "metadata": {},
   "source": [
    "# Преобразование текста письма в набор уникальных слов\n",
    "\n",
    " Задача: перейти от неструктурированного текста к списку признаков.\n",
    " Для каждого письма:\n",
    " 1. Переводим текст в нижний регистр — чтобы слова \"Hello\" и \"hello\"\n",
    "    считались одинаковыми.\n",
    " 2. Разбиваем строку по пробелам на слова.\n",
    " 3. Используем set() для получения уникальных слов — нам важно\n",
    "    только наличие слова, а не его количество.\n",
    " 4. Сохраняем этот список уникальных слов в новом столбце 'words'.\n"
   ]
  },
  {
   "cell_type": "code",
   "execution_count": 3,
   "id": "790f7178",
   "metadata": {},
   "outputs": [
    {
     "name": "stdout",
     "output_type": "stream",
     "text": [
      "После обработки текста (столбец 'words'):\n",
      "                                                text  spam  \\\n",
      "0  Subject: naturally irresistible your corporate...     1   \n",
      "1  Subject: the stock trading gunslinger  fanny i...     1   \n",
      "2  Subject: unbelievable new homes made easy  im ...     1   \n",
      "3  Subject: 4 color printing special  request add...     1   \n",
      "4  Subject: do not have money , get software cds ...     1   \n",
      "5  Subject: great nnews  hello , welcome to medzo...     1   \n",
      "6  Subject: here ' s a hot play in motion  homela...     1   \n",
      "7  Subject: save your money buy getting this thin...     1   \n",
      "8  Subject: undeliverable : home based business f...     1   \n",
      "9  Subject: save your money buy getting this thin...     1   \n",
      "\n",
      "                                               words  \n",
      "0  [creativeness, subject:, ,, full, good, logo, ...  \n",
      "1  [continuant, esmark, hall, mcdougall, subject:...  \n",
      "2  [new, website, home, fixed, subject:, rate, ea...  \n",
      "3  [printing, ), form, subject:, version, ,, 9170...  \n",
      "4  [subject:, ain, ,, all, not, yet, t, by, great...  \n",
      "5  [blister, subject:, phar, ,, shakedown, we, co...  \n",
      "6  [20, ,, access, aiways, through, integration, ...  \n",
      "7  [errrectlon, subject:, thing, ship, not, we, y...  \n",
      "8  [000, id, subject:, ,, @, ;, subject, :, 2002,...  \n",
      "9  [errrectlon, subject:, thing, ship, not, we, y...  \n"
     ]
    }
   ],
   "source": [
    "def process_email(text):\n",
    "    text = text.lower()                     # делаем буквы строчными\n",
    "    words = text.split()                    # разбиваем по пробелам\n",
    "    unique = list(set(words))               # оставляем только уникальные\n",
    "    return unique\n",
    "\n",
    "# Применяем функцию к каждому отзыву и создаем новый столбец\n",
    "emails['words'] = emails['text'].apply(process_email)\n",
    "print(\"После обработки текста (столбец 'words'):\")\n",
    "print(emails.head(10))"
   ]
  },
  {
   "cell_type": "markdown",
   "id": "89cdbcb5",
   "metadata": {},
   "source": [
    "# Оценка базовой вероятности (априор) спама\n",
    " Здесь считаем, какая доля писем в целом является спамом.\n",
    " Это P(spam) — априорная вероятность для модели.\n"
   ]
  },
  {
   "cell_type": "code",
   "execution_count": 4,
   "id": "00cb665f",
   "metadata": {},
   "outputs": [
    {
     "name": "stdout",
     "output_type": "stream",
     "text": [
      "Всего писем: 5728\n",
      "Спам-писем: 1368\n",
      "Вероятность спама P(spam): 0.2388\n",
      "\n"
     ]
    }
   ],
   "source": [
    "num_emails = len(emails)\n",
    "num_spam = emails['spam'].sum()\n",
    "num_ham = num_emails - num_spam\n",
    "print(f\"Всего писем: {num_emails}\")\n",
    "print(f\"Спам-писем: {num_spam}\")\n",
    "print(f\"Вероятность спама P(spam): {num_spam/num_emails:.4f}\\n\")"
   ]
  },
  {
   "cell_type": "markdown",
   "id": "1323aa42",
   "metadata": {},
   "source": [
    "# Обучение простейшей наивной байесовской модели по словам\n",
    "\n",
    " Модель хранит для каждого слова два счетчика:\n",
    "   model[word]['spam'] = количество спам-писем, где встречается слово\n",
    "   model[word]['ham']  = количество не-спам писем, где слово встречается\n",
    " Для корректности используем аддитивную (Лапласову) сглаженность: начинаем\n",
    " счетчики с 1, чтобы ни одна вероятность не стала нулевой.\n"
   ]
  },
  {
   "cell_type": "code",
   "execution_count": 5,
   "id": "298f32ca",
   "metadata": {},
   "outputs": [
    {
     "name": "stdout",
     "output_type": "stream",
     "text": [
      "Пара примеров из модели:\n",
      "lottery: {'spam': 9, 'ham': 1}\n",
      "sale: {'spam': 39, 'ham': 42}\n"
     ]
    }
   ],
   "source": [
    "model = {}  # словарь вида {word: {'spam': count, 'ham': count}}\n",
    "for _, row in emails.iterrows():\n",
    "    is_spam = row['spam'] == 1\n",
    "    for word in row['words']:\n",
    "        if word not in model:\n",
    "            model[word] = {'spam': 1, 'ham': 1}  # инициализация сглаживанием\n",
    "        if is_spam:\n",
    "            model[word]['spam'] += 1\n",
    "        else:\n",
    "            model[word]['ham'] += 1\n",
    "\n",
    "# Посмотрим на пару примеров слов\n",
    "print(\"Пара примеров из модели:\")\n",
    "for w in ['lottery', 'sale']:\n",
    "    print(f\"{w}: {model.get(w)}\")"
   ]
  },
  {
   "cell_type": "markdown",
   "id": "24d64606",
   "metadata": {},
   "source": [
    "# Прогноз для одного слова (P(spam|word))\n",
    "\n",
    " По формуле Байеса для одного слова (игнорируя нормировочный множитель):\n",
    "   P(spam|word) ∝ P(word|spam)*P(spam)\n",
    " Но мы возвращаем простое отношение частот:\n",
    "   count_spam / (count_spam + count_ham).\n"
   ]
  },
  {
   "cell_type": "code",
   "execution_count": 6,
   "id": "ca2b7ff2",
   "metadata": {},
   "outputs": [
    {
     "name": "stdout",
     "output_type": "stream",
     "text": [
      "P(spam|'lottery') = 0.9\n",
      "P(spam|'sale')    = 0.48148148148148145\n"
     ]
    }
   ],
   "source": [
    "def predict_bayes(word):\n",
    "    word = word.lower()\n",
    "    counts = model.get(word)\n",
    "    if counts is None:\n",
    "        return None  # слово не встречалось в обучении\n",
    "    return counts['spam'] / (counts['spam'] + counts['ham'])\n",
    "\n",
    "print(\"P(spam|'lottery') =\", predict_bayes('lottery'))\n",
    "print(\"P(spam|'sale')    =\", predict_bayes('sale'))"
   ]
  },
  {
   "cell_type": "markdown",
   "id": "c2edad1c",
   "metadata": {},
   "source": [
    "# Полный наивный байес для всего письма\n",
    "\n",
    " Предполагаем независимость слов. Для письма W = {w1,w2,...}:\n",
    "   P(spam|W) ∝ P(spam)*∏ P(wi|spam)\n",
    "   P(ham|W)  ∝ P(ham)*∏ P(wi|ham)\n",
    " Сравниваем эти два произведения (нормировка не нужна для решения).\n"
   ]
  },
  {
   "cell_type": "code",
   "execution_count": 7,
   "id": "f053baf0",
   "metadata": {},
   "outputs": [
    {
     "name": "stdout",
     "output_type": "stream",
     "text": [
      "P(spam|'lottery sale') = 0.9638\n",
      "P(spam|'Hi mom how are you') = 0.1255\n",
      "P(spam|'enter the lottery to win three million dollars') = 0.9995\n",
      "P(spam|'meet me at the lobby of the hotel at nine am') = 0.0001\n"
     ]
    }
   ],
   "source": [
    "def predict_naive_bayes(email_text):\n",
    "    # подготовка\n",
    "    email_text = email_text.lower()\n",
    "    words = set(email_text.split())\n",
    "\n",
    "    # априорные\n",
    "    p_spam = num_spam / num_emails\n",
    "    p_ham = num_ham / num_emails\n",
    "\n",
    "    # умножаем условные вероятности\n",
    "    for word in words:\n",
    "        if word in model:\n",
    "            counts = model[word]\n",
    "            # P(word|spam) ≈ counts['spam']/num_spam\n",
    "            p_spam *= counts['spam'] / num_spam\n",
    "            # P(word|ham)\n",
    "            p_ham *= counts['ham'] / num_ham\n",
    "\n",
    "    # нормируем\n",
    "    total = p_spam + p_ham\n",
    "    return p_spam/total if total > 0 else 0.5\n",
    "\n",
    "# Примеры работы\n",
    "tests = [\n",
    "    'lottery sale',\n",
    "    'Hi mom how are you',\n",
    "    'enter the lottery to win three million dollars',\n",
    "    'meet me at the lobby of the hotel at nine am'\n",
    "]\n",
    "for t in tests:\n",
    "    print(f\"P(spam|'{t}') = {predict_naive_bayes(t):.4f}\")"
   ]
  }
 ],
 "metadata": {
  "kernelspec": {
   "display_name": ".venv",
   "language": "python",
   "name": "python3"
  },
  "language_info": {
   "codemirror_mode": {
    "name": "ipython",
    "version": 3
   },
   "file_extension": ".py",
   "mimetype": "text/x-python",
   "name": "python",
   "nbconvert_exporter": "python",
   "pygments_lexer": "ipython3",
   "version": "3.12.3"
  }
 },
 "nbformat": 4,
 "nbformat_minor": 5
}
