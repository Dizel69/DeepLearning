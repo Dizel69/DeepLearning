{
 "cells": [
  {
   "cell_type": "markdown",
   "id": "db43c6c0",
   "metadata": {},
   "source": [
    "# Настройка окружения и загрузка данных\n",
    " Здесь подключаем pandas для работы с таблицами, numpy для численных операций\n",
    " и pathlib для формирования пути к файлу.\n",
    " Устанавливаем имена столбцов и считываем CSV с письмами в DataFrame.\n",
    " Затем выводим первые 10 строк для проверки корректности загрузки.\n"
   ]
  },
  {
   "cell_type": "code",
   "execution_count": 6,
   "id": "e00a4d94",
   "metadata": {},
   "outputs": [
    {
     "name": "stdout",
     "output_type": "stream",
     "text": [
      "Первые 10 писем:\n",
      "                                                text  spam\n",
      "0  Subject: naturally irresistible your corporate...     1\n",
      "1  Subject: the stock trading gunslinger  fanny i...     1\n",
      "2  Subject: unbelievable new homes made easy  im ...     1\n",
      "3  Subject: 4 color printing special  request add...     1\n",
      "4  Subject: do not have money , get software cds ...     1\n",
      "5  Subject: great nnews  hello , welcome to medzo...     1\n",
      "6  Subject: here ' s a hot play in motion  homela...     1\n",
      "7  Subject: save your money buy getting this thin...     1\n",
      "8  Subject: undeliverable : home based business f...     1\n",
      "9  Subject: save your money buy getting this thin...     1\n"
     ]
    }
   ],
   "source": [
    "import numpy as np\n",
    "import pandas as pd\n",
    "from pathlib import Path\n",
    "\n",
    "dir_path = Path.cwd()\n",
    "name_dataset = \"emails.csv\"\n",
    "emails = pd.read_csv('emails.csv')\n",
    "print(\"Первые 10 писем:\")\n",
    "print(emails.head(10))\n"
   ]
  },
  {
   "cell_type": "markdown",
   "id": "a9b59fe9",
   "metadata": {},
   "source": [
    "# Предобработка текста в список уникальных слов\n",
    "\n",
    "Определяем функции для обработки текста:\n",
    " 1) split_string_into_unique_words: разбивает строку на слова и оставляет уникальные.\n",
    " 2) process_series_email       : применяет это преобразование ко всему столбцу text.\n",
    " Сохраняем результат в новом столбце 'words' и выводим первые 10 строк.\n"
   ]
  },
  {
   "cell_type": "code",
   "execution_count": 7,
   "id": "09f9695f",
   "metadata": {},
   "outputs": [
    {
     "name": "stdout",
     "output_type": "stream",
     "text": [
      "После предобработки (столбец 'words'):\n",
      "                                                text  spam  \\\n",
      "0  Subject: naturally irresistible your corporate...     1   \n",
      "1  Subject: the stock trading gunslinger  fanny i...     1   \n",
      "2  Subject: unbelievable new homes made easy  im ...     1   \n",
      "3  Subject: 4 color printing special  request add...     1   \n",
      "4  Subject: do not have money , get software cds ...     1   \n",
      "5  Subject: great nnews  hello , welcome to medzo...     1   \n",
      "6  Subject: here ' s a hot play in motion  homela...     1   \n",
      "7  Subject: save your money buy getting this thin...     1   \n",
      "8  Subject: undeliverable : home based business f...     1   \n",
      "9  Subject: save your money buy getting this thin...     1   \n",
      "\n",
      "                                               words  \n",
      "0  [website, for, ordered, with, through, drafts,...  \n",
      "1  [waterway, fanny, chameleon, palfrey, bedtime,...  \n",
      "2  [unbelievable, loan, im, been, for, wanting, a...  \n",
      "3  [goldengraphix, for, format, version, graphix,...  \n",
      "4  [tradgedies, marriage, along, not, with, the, ...  \n",
      "5  [ac, um, over, online, pleased, bestow, andman...  \n",
      "6  [dedicated, essential, big, further, woridwide...  \n",
      "7  [cialls, for, than, over, start, not, when, wi...  \n",
      "8  [for, 2002, co, s, 6, 24, =, recipient, mts, -...  \n",
      "9  [cialls, for, than, over, start, not, when, wi...  \n"
     ]
    }
   ],
   "source": [
    "def split_string_into_unique_words(string):\n",
    "    return list(set(string.lower().split()))\n",
    "\n",
    "def process_series_email(series_text):\n",
    "    \"\"\"Преобразует Series текстов в Series списков уникальных слов\"\"\"\n",
    "    return series_text.apply(split_string_into_unique_words)\n",
    "\n",
    "column_emails = 'text'\n",
    "column_words = 'words'\n",
    "emails[column_words] = process_series_email(emails[column_emails])\n",
    "print(\"После предобработки (столбец 'words'):\")\n",
    "print(emails.head(10))"
   ]
  },
  {
   "cell_type": "markdown",
   "id": "051a4f93",
   "metadata": {},
   "source": [
    "# Вычисление априорных вероятностей классов\n",
    "\n",
    " Считаем общее число писем и число спамов. Вычисляем P(spam) и P(ham)."
   ]
  },
  {
   "cell_type": "code",
   "execution_count": 8,
   "id": "f072b0b7",
   "metadata": {},
   "outputs": [
    {
     "name": "stdout",
     "output_type": "stream",
     "text": [
      "Распределение меток (ham=0, spam=1):\n",
      "spam\n",
      "0    4360\n",
      "1    1368\n",
      "Name: count, dtype: int64\n",
      "P(spam) = 0.2388\n",
      "\n"
     ]
    }
   ],
   "source": [
    "column_label = 'spam'\n",
    "num_emails = len(emails)\n",
    "counts_label = emails[column_label].value_counts()\n",
    "num_spam = counts_label.get(1, 0)\n",
    "num_ham = counts_label.get(0, 0)\n",
    "print(\"Распределение меток (ham=0, spam=1):\")\n",
    "print(counts_label)\n",
    "print(f\"P(spam) = {num_spam/num_emails:.4f}\\n\")"
   ]
  },
  {
   "cell_type": "markdown",
   "id": "7047bf7b",
   "metadata": {},
   "source": [
    "# БЛОК 4: Построение словарной модели наивного байеса\n",
    "\n",
    " Для каждого слова считаем, в скольких spam и ham письмах оно встречается.\n",
    " Используем Лапласово сглаживание (начальные счётчики = 1) для избежания нулей.\n"
   ]
  },
  {
   "cell_type": "code",
   "execution_count": 9,
   "id": "96fc2c84",
   "metadata": {},
   "outputs": [
    {
     "name": "stdout",
     "output_type": "stream",
     "text": [
      "Пример model['lottery']     = {'spam': 9, 'ham': 1}\n",
      "Пример model['sale']        = {'spam': 39, 'ham': 42} \n",
      "\n"
     ]
    }
   ],
   "source": [
    "model = {}  # {word: {'spam': count, 'ham': count}}\n",
    "for _, row in emails.iterrows():\n",
    "    is_spam = row[column_label] == 1\n",
    "    for word in row[column_words]:\n",
    "        if word not in model:\n",
    "            model[word] = {'spam': 1, 'ham': 1}\n",
    "        model[word]['spam' if is_spam else 'ham'] += 1\n",
    "\n",
    "# Просмотр примеров\n",
    "print(\"Пример model['lottery']     =\", model.get('lottery'))\n",
    "print(\"Пример model['sale']        =\", model.get('sale'), \"\\n\")"
   ]
  },
  {
   "cell_type": "markdown",
   "id": "cd050906",
   "metadata": {},
   "source": [
    "# Функция predict_bayes для одного слова\n",
    "\n",
    "Возвращает P(spam|word) = count_spam/(count_spam+count_ham)."
   ]
  },
  {
   "cell_type": "code",
   "execution_count": 10,
   "id": "9794df42",
   "metadata": {},
   "outputs": [
    {
     "name": "stdout",
     "output_type": "stream",
     "text": [
      "P(spam|'lottery') = 0.9\n",
      "P(spam|'sale')    = 0.48148148148148145 \n",
      "\n"
     ]
    }
   ],
   "source": [
    "def predict_bayes(word, model):\n",
    "    counts = model.get(word.lower())\n",
    "    if not counts:\n",
    "        return None\n",
    "    return counts['spam'] / (counts['spam'] + counts['ham'])\n",
    "\n",
    "print(\"P(spam|'lottery') =\", predict_bayes('lottery', model))\n",
    "print(\"P(spam|'sale')    =\", predict_bayes('sale', model), \"\\n\")"
   ]
  },
  {
   "cell_type": "markdown",
   "id": "cfde801e",
   "metadata": {},
   "source": [
    "# Полная функция predict_naive_bayes для целого письма\n",
    "\n",
    " Вычисляет P(spam|email) ∝ P(spam) * ∏ P(word|spam)\n",
    " и P(ham|email) аналогично, затем нормирует.\n"
   ]
  },
  {
   "cell_type": "code",
   "execution_count": 11,
   "id": "cd838448",
   "metadata": {},
   "outputs": [
    {
     "name": "stdout",
     "output_type": "stream",
     "text": [
      "P(spam|'lottery sale') = 0.9638\n",
      "P(spam|'Hi mom how are you') = 0.1255\n",
      "P(spam|'enter the lottery to win three million dollars') = 0.9995\n",
      "P(spam|'meet me at the lobby of the hotel at nine am') = 0.0001\n"
     ]
    }
   ],
   "source": [
    "def predict_naive_bayes(email_text, model, num_spam, num_ham, num_emails):\n",
    "    words = set(email_text.lower().split())\n",
    "    p_spam = num_spam / num_emails\n",
    "    p_ham = num_ham / num_emails\n",
    "    for w in words:\n",
    "        counts = model.get(w)\n",
    "        if counts:\n",
    "            p_spam *= counts['spam'] / num_spam\n",
    "            p_ham *= counts['ham'] / num_ham\n",
    "    total = p_spam + p_ham\n",
    "    return p_spam / total if total > 0 else 0.5\n",
    "\n",
    "# Тестируем на примерах\n",
    "tests = [\n",
    "    'lottery sale',\n",
    "    'Hi mom how are you',\n",
    "    'enter the lottery to win three million dollars',\n",
    "    'meet me at the lobby of the hotel at nine am'\n",
    "]\n",
    "for t in tests:\n",
    "    print(f\"P(spam|'{t}') = {predict_naive_bayes(t, model, num_spam, num_ham, num_emails):.4f}\")"
   ]
  }
 ],
 "metadata": {
  "kernelspec": {
   "display_name": ".venv",
   "language": "python",
   "name": "python3"
  },
  "language_info": {
   "codemirror_mode": {
    "name": "ipython",
    "version": 3
   },
   "file_extension": ".py",
   "mimetype": "text/x-python",
   "name": "python",
   "nbconvert_exporter": "python",
   "pygments_lexer": "ipython3",
   "version": "3.12.3"
  }
 },
 "nbformat": 4,
 "nbformat_minor": 5
}
