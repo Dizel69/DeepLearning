{
 "cells": [
  {
   "cell_type": "markdown",
   "id": "dcd3d026",
   "metadata": {},
   "source": [
    "\n",
    "# БЛОК 1: Импорт библиотек и загрузка данных\n",
    " В этом блоке мы подключаем библиотеки для работы с табличными данными,\n",
    " числовыми массивами и текстовыми признаками, а также наш модуль utils\n",
    " для визуализации. Затем считываем CSV-файл 'IMDB_Dataset.csv' в\n",
    " pandas DataFrame и выводим первые строки, чтобы убедиться в корректности загрузки.\n"
   ]
  },
  {
   "cell_type": "code",
   "execution_count": 2,
   "id": "65cffd31",
   "metadata": {},
   "outputs": [
    {
     "name": "stdout",
     "output_type": "stream",
     "text": [
      "Первые 5 строк исходного датасета:\n",
      "                                              review sentiment\n",
      "0  One of the other reviewers has mentioned that ...  positive\n",
      "1  A wonderful little production. <br /><br />The...  positive\n",
      "2  I thought this was a wonderful way to spend ti...  positive\n",
      "3  Basically there's a family where a little boy ...  negative\n",
      "4  Petter Mattei's \"Love in the Time of Money\" is...  positive\n"
     ]
    }
   ],
   "source": [
    "import pandas as pd\n",
    "import numpy as np\n",
    "from sklearn.feature_extraction.text import CountVectorizer\n",
    "from sklearn.linear_model import LogisticRegression\n",
    "from sklearn.model_selection import train_test_split\n",
    "from sklearn.metrics import accuracy_score\n",
    "import utils\n",
    "\n",
    "# Читаем готовый датасет\n",
    "movies = pd.read_csv('IMDB_Dataset.csv')  # файл IMDB_Dataset.csv в рабочей папке\n",
    "# Выводим первые 5 строк для проверки структуры\n",
    "print(\"Первые 5 строк исходного датасета:\")\n",
    "print(movies.head())\n",
    "\n",
    "\n"
   ]
  },
  {
   "cell_type": "markdown",
   "id": "134540bf",
   "metadata": {},
   "source": [
    "\n",
    "# Преобразование текстовых отзывов в числовые векторные признаки\n",
    "Машинное обучение не умеет работать с необработанным текстом. Поэтому:\n",
    " 1. Используем CountVectorizer, который преобразует каждый отзыв в вектор:\n",
    "    индекс i соответствует слову i в словаре, а значение — количество\n",
    "    вхождений этого слова в отзыве.\n",
    " 2. Получаем разреженную матрицу X и массив меток y.\n"
   ]
  },
  {
   "cell_type": "code",
   "execution_count": 3,
   "id": "05657c1d",
   "metadata": {},
   "outputs": [
    {
     "name": "stdout",
     "output_type": "stream",
     "text": [
      "Размерность матрицы признаков: (50000, 101895)\n"
     ]
    }
   ],
   "source": [
    "vectorizer = CountVectorizer()\n",
    "# Строим словарь и преобразуем тексты в матрицу признаков\n",
    "X = vectorizer.fit_transform(movies['review'])  # shape (n_samples, n_features)\n",
    "# Кодируем метки \"positive\"→1, \"negative\"→0\n",
    "y = (movies['sentiment'] == 'positive').astype(int).values\n",
    "\n",
    "print(f\"Размерность матрицы признаков: {X.shape}\")  # (число примеров, число уникальных слов)"
   ]
  },
  {
   "cell_type": "markdown",
   "id": "2a4c87cf",
   "metadata": {},
   "source": [
    "# БЛОК 3: Обучение логистической регрессии на TF (term-frequency) признаках\n",
    " Делим данные на обучающую и тестовую выборки, затем обучаем\n",
    " sklearn LogisticRegression. Выводим точность на train и test."
   ]
  },
  {
   "cell_type": "code",
   "execution_count": 4,
   "id": "f72fdbbf",
   "metadata": {},
   "outputs": [
    {
     "name": "stdout",
     "output_type": "stream",
     "text": [
      "Accuracy на обучении: 0.9972\n",
      "Accuracy на тесте:    0.8841\n"
     ]
    }
   ],
   "source": [
    "X_train, X_test, y_train, y_test = train_test_split(X, y, test_size=0.2, random_state=0)\n",
    "\n",
    "model = LogisticRegression(max_iter=1000, solver='liblinear')\n",
    "model.fit(X_train, y_train)\n",
    "\n",
    "train_acc = accuracy_score(y_train, model.predict(X_train))\n",
    "test_acc = accuracy_score(y_test, model.predict(X_test))\n",
    "print(f\"Accuracy на обучении: {train_acc:.4f}\")\n",
    "print(f\"Accuracy на тесте:    {test_acc:.4f}\")\n",
    "\n"
   ]
  },
  {
   "cell_type": "markdown",
   "id": "030167c5",
   "metadata": {},
   "source": [
    "\n",
    "# БЛОК 4: Анализ весов модели (коэффициентов)\n",
    "LogisticRegression обучает вес для каждого слова в словаре.\n",
    "Положительный вес означает, что слово увеличивает вероятность\n",
    " положительного отзыва, отрицательный — снижает.\n",
    " В этом блоке:\n",
    " 1. Собираем DataFrame со словами и их коэффициентами.\n",
    " 2. Сортируем по возрастанию и убыванию.\n",
    " 3. Извлекаем веса для конкретных слов: \"wonderful\", \"horrible\", \"the\"."
   ]
  },
  {
   "cell_type": "code",
   "execution_count": 5,
   "id": "cf00d3d1",
   "metadata": {},
   "outputs": [
    {
     "name": "stdout",
     "output_type": "stream",
     "text": [
      "\n",
      "10 самых отрицательных слов (наиболее указывают на negative):\n",
      "                  word      coef\n",
      "98190            waste -2.208487\n",
      "100223           worst -2.193702\n",
      "34586      forgettable -1.889602\n",
      "25426    disappointing -1.725044\n",
      "7242             awful -1.701960\n",
      "25428   disappointment -1.697313\n",
      "86003          stinker -1.646192\n",
      "27196         dreadful -1.599458\n",
      "31913            fails -1.575412\n",
      "94846    uninteresting -1.572674\n",
      "\n",
      "10 самых положительных слов (наиболее указывают на positive):\n",
      "              word      coef\n",
      "74052   refreshing  1.600284\n",
      "42850       hooked  1.459614\n",
      "87465       superb  1.442454\n",
      "2675           adr  1.413679\n",
      "73132      raunchy  1.403377\n",
      "99949  wonderfully  1.398362\n",
      "35704     funniest  1.390787\n",
      "85147     squirrel  1.357860\n",
      "69609      portman  1.330558\n",
      "23671   delightful  1.303313\n",
      "coef для 'wonderful': 0.916165310227916\n",
      "coef для 'horrible': -1.5082530762312658\n",
      "coef для 'the': 0.014568460574303933\n"
     ]
    },
    {
     "name": "stderr",
     "output_type": "stream",
     "text": [
      "/tmp/ipykernel_14714/2781771247.py:17: FutureWarning: Calling float on a single element Series is deprecated and will raise a TypeError in the future. Use float(ser.iloc[0]) instead\n",
      "  print(f\"coef для '{w}':\", float(val) if not val.empty else 'слово не в словаре')\n"
     ]
    }
   ],
   "source": [
    "# Получаем имена признаков (слова)\n",
    "feature_names = vectorizer.get_feature_names_out()\n",
    "# Получаем массив коэффициентов (shape (n_features,))\n",
    "coefs = model.coef_[0]\n",
    "# Собираем DataFrame для анализа\n",
    "weights_df = pd.DataFrame({'word': feature_names, 'coef': coefs})\n",
    "\n",
    "# Сортировка по коэффициенту\n",
    "print(\"\\n10 самых отрицательных слов (наиболее указывают на negative):\")\n",
    "print(weights_df.nsmallest(10, 'coef'))\n",
    "print(\"\\n10 самых положительных слов (наиболее указывают на positive):\")\n",
    "print(weights_df.nlargest(10, 'coef'))\n",
    "\n",
    "# Конкретные слова\n",
    "for w in ['wonderful', 'horrible', 'the']:\n",
    "    val = weights_df.loc[weights_df['word'] == w, 'coef']\n",
    "    print(f\"coef для '{w}':\", float(val) if not val.empty else 'слово не в словаре')"
   ]
  },
  {
   "cell_type": "markdown",
   "id": "ccc1e462",
   "metadata": {},
   "source": [
    "# Предсказания вероятностей и их анализ\n",
    " LogisticRegression может выдавать вероятность принадлежности к классу 1.\n",
    " Добавляем столбец 'prob_positive' в исходный DataFrame и показываем\n",
    " самый уверенный positive и самый уверенный negative отзыв."
   ]
  },
  {
   "cell_type": "code",
   "execution_count": 6,
   "id": "b91a570c",
   "metadata": {},
   "outputs": [
    {
     "name": "stdout",
     "output_type": "stream",
     "text": [
      "\n",
      "Отзыв с наибольшей вероятностью positive:\n",
      "review           A film for mature, educated audiences...<br />...\n",
      "sentiment                                                 positive\n",
      "prob_positive                                                  1.0\n",
      "Name: 943, dtype: object\n",
      "\n",
      "Отзыв с наибольшей уверенностью negative:\n",
      "review           Zombi 3 starts as a group of heavily armed men...\n",
      "sentiment                                                 negative\n",
      "prob_positive                                                  0.0\n",
      "Name: 13452, dtype: object\n"
     ]
    }
   ],
   "source": [
    "probs = model.predict_proba(X)[:,1]  # вероятность класса 1\n",
    "movies['prob_positive'] = probs\n",
    "\n",
    "# Самый уверенный положительный\n",
    "best_pos = movies.loc[movies['prob_positive'].idxmax()]\n",
    "# Самый уверенный отрицательный\n",
    "best_neg = movies.loc[movies['prob_positive'].idxmin()]\n",
    "\n",
    "print(\"\\nОтзыв с наибольшей вероятностью positive:\")\n",
    "print(best_pos[['review','sentiment','prob_positive']])\n",
    "print(\"\\nОтзыв с наибольшей уверенностью negative:\")\n",
    "print(best_neg[['review','sentiment','prob_positive']])"
   ]
  }
 ],
 "metadata": {
  "kernelspec": {
   "display_name": ".venv",
   "language": "python",
   "name": "python3"
  },
  "language_info": {
   "codemirror_mode": {
    "name": "ipython",
    "version": 3
   },
   "file_extension": ".py",
   "mimetype": "text/x-python",
   "name": "python",
   "nbconvert_exporter": "python",
   "pygments_lexer": "ipython3",
   "version": "3.12.3"
  }
 },
 "nbformat": 4,
 "nbformat_minor": 5
}
